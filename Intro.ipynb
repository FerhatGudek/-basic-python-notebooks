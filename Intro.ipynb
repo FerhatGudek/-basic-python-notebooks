{
  "metadata": {
    "kernelspec": {
      "name": "python",
      "display_name": "Python (Pyodide)",
      "language": "python"
    },
    "language_info": {
      "codemirror_mode": {
        "name": "python",
        "version": 3
      },
      "file_extension": ".py",
      "mimetype": "text/x-python",
      "name": "python",
      "nbconvert_exporter": "python",
      "pygments_lexer": "ipython3",
      "version": "3.8"
    }
  },
  "nbformat_minor": 5,
  "nbformat": 4,
  "cells": [
    {
      "id": "a4c238f7-1f71-4bdd-94d4-897bf3a532d6",
      "cell_type": "code",
      "source": "print(\"abdullah ile birlikte el ele\")\n",
      "metadata": {
        "trusted": true
      },
      "outputs": [
        {
          "name": "stdout",
          "output_type": "stream",
          "text": "abdullah ile birlikte el ele\n"
        }
      ],
      "execution_count": 1
    },
    {
      "id": "98c6add8-0e80-4a6d-a520-14f46872f007",
      "cell_type": "code",
      "source": "input(\"say my mane :\")\n",
      "metadata": {
        "trusted": true
      },
      "outputs": [
        {
          "output_type": "stream",
          "name": "stdin",
          "text": "say my mane : slrgg\n"
        },
        {
          "execution_count": 2,
          "output_type": "execute_result",
          "data": {
            "text/plain": "'slrgg'"
          },
          "metadata": {}
        }
      ],
      "execution_count": 2
    },
    {
      "id": "bfee2bbf-babd-4648-83f0-6cd4a950104f",
      "cell_type": "code",
      "source": "print(5000 - (5000*0.27))",
      "metadata": {
        "trusted": true
      },
      "outputs": [
        {
          "name": "stdout",
          "output_type": "stream",
          "text": "3650.0\n"
        }
      ],
      "execution_count": 3
    },
    {
      "id": "ed408a18-9f7c-4b52-93b8-536964b48503",
      "cell_type": "code",
      "source": "print(4000 - (4000*0,27))",
      "metadata": {
        "trusted": true
      },
      "outputs": [
        {
          "ename": "<class 'TypeError'>",
          "evalue": "unsupported operand type(s) for -: 'int' and 'tuple'",
          "traceback": [
            "\u001b[0;31m---------------------------------------------------------------------------\u001b[0m",
            "\u001b[0;31mTypeError\u001b[0m                                 Traceback (most recent call last)",
            "Cell \u001b[0;32mIn[4], line 1\u001b[0m\n\u001b[0;32m----> 1\u001b[0m \u001b[38;5;28mprint\u001b[39m(\u001b[38;5;241;43m4000\u001b[39;49m\u001b[43m \u001b[49m\u001b[38;5;241;43m-\u001b[39;49m\u001b[43m \u001b[49m\u001b[43m(\u001b[49m\u001b[38;5;241;43m4000\u001b[39;49m\u001b[38;5;241;43m*\u001b[39;49m\u001b[38;5;241;43m0\u001b[39;49m\u001b[43m,\u001b[49m\u001b[38;5;241;43m27\u001b[39;49m\u001b[43m)\u001b[49m)\n",
            "\u001b[0;31mTypeError\u001b[0m: unsupported operand type(s) for -: 'int' and 'tuple'"
          ],
          "output_type": "error"
        }
      ],
      "execution_count": 4
    },
    {
      "id": "e7c58af6-0220-479b-88cb-afbaf88f782b",
      "cell_type": "code",
      "source": "print(5000 - (5000*0.27))\nprint(4000 - (4000*0.27))",
      "metadata": {
        "trusted": true
      },
      "outputs": [
        {
          "name": "stdout",
          "output_type": "stream",
          "text": "3650.0\n2920.0\n"
        }
      ],
      "execution_count": 6
    },
    {
      "id": "17d207de-ca38-4bf7-837c-de1271c16b8c",
      "cell_type": "code",
      "source": "maasAli = 5000\nmaasAhmet = 4000\nvergi = 0.27\nprint(maasAli - (maasAli*vergi))\nprint(maasAhmet - (maasAhmet*vergi))",
      "metadata": {
        "trusted": true
      },
      "outputs": [
        {
          "name": "stdout",
          "output_type": "stream",
          "text": "3650.0\n2920.0\n"
        }
      ],
      "execution_count": 7
    },
    {
      "id": "b4586819-3b31-40a1-999d-b6501b80876e",
      "cell_type": "code",
      "source": "#degisken rakam ile başlayamaz",
      "metadata": {
        "trusted": true
      },
      "outputs": [],
      "execution_count": 8
    },
    {
      "id": "28193f1e-c78c-4010-8e07-7d5326b6b8fa",
      "cell_type": "code",
      "source": "number = 10\nprint(\"number\")\nnumber += 50\nprint(\"number\")",
      "metadata": {
        "trusted": true
      },
      "outputs": [
        {
          "name": "stdout",
          "output_type": "stream",
          "text": "number\nnumber\n"
        }
      ],
      "execution_count": 9
    },
    {
      "id": "84ee2f7a-3df1-4e8e-9c30-c333f3780e2f",
      "cell_type": "code",
      "source": "number1= 10\nprint(number1)\nnumber += 50\nprint(number)",
      "metadata": {
        "trusted": true
      },
      "outputs": [
        {
          "name": "stdout",
          "output_type": "stream",
          "text": "10\n110\n"
        }
      ],
      "execution_count": 10
    },
    {
      "id": "2760d246-2faf-482e-bb6e-7a533e831444",
      "cell_type": "code",
      "source": "#degiskende turkce karakter kullanmayalım",
      "metadata": {
        "trusted": true
      },
      "outputs": [],
      "execution_count": 11
    },
    {
      "id": "b1a89bd7-47fc-4cab-8e0b-5819493d64b2",
      "cell_type": "code",
      "source": "# x = 1 # int\n# y = 2.3 #float\n# name = 'Çınar' # str\n# isStudent = true # bool",
      "metadata": {
        "trusted": true
      },
      "outputs": [],
      "execution_count": 13
    },
    {
      "id": "b8fca81f-dc5f-4b48-b576-f37eebc6d50a",
      "cell_type": "code",
      "source": "a = '10'\nb = '20'\nprint(a+b)\nprint(\"\\n........\\n\")\n",
      "metadata": {
        "trusted": true
      },
      "outputs": [
        {
          "name": "stdout",
          "output_type": "stream",
          "text": "1020\n\n........\n\n"
        }
      ],
      "execution_count": 15
    },
    {
      "id": "1e0f4d24-1123-4eb1-bc5f-b68d58d6a251",
      "cell_type": "code",
      "source": "a = 10\nb = 20\nprint(a+b)\nprint(\"\\n ... \\n... \\n\")\n",
      "metadata": {
        "trusted": true
      },
      "outputs": [
        {
          "name": "stdout",
          "output_type": "stream",
          "text": "30\n\n ... \n... \n\n"
        }
      ],
      "execution_count": 16
    },
    {
      "id": "90bf22b9-f6e0-4974-bd64-57e04dafe07b",
      "cell_type": "code",
      "source": "x, y, name , isStudent = (2, 2.4, 'Ferhat', 'true')\nprint('name' , 'x' ,  'isStudent' ,  'y') ",
      "metadata": {
        "trusted": true
      },
      "outputs": [
        {
          "name": "stdout",
          "output_type": "stream",
          "text": "name x isStudent y\n"
        }
      ],
      "execution_count": 20
    },
    {
      "id": "fb63d242-a30e-4f3d-93f1-b97b111d8596",
      "cell_type": "code",
      "source": "order1 = 45\norder2 = 55\norder3 = 65\ntotal = order1+order2+order3\nprint(\"total\", total)",
      "metadata": {
        "trusted": true
      },
      "outputs": [
        {
          "name": "stdout",
          "output_type": "stream",
          "text": "total 165\n"
        }
      ],
      "execution_count": 21
    },
    {
      "id": "76566e20-9bce-47fc-b8cf-6fe05c9b0ea8",
      "cell_type": "code",
      "source": "order1 = '45'\norder2= '55'\norder3= '65'\ntotal = order1+ order2+ order3\nprint(\"toplam\", total) # ifade str olguğu için böyle yan yana metinmiş gibi algıladı",
      "metadata": {
        "trusted": true
      },
      "outputs": [
        {
          "name": "stdout",
          "output_type": "stream",
          "text": "toplam 455565\n"
        }
      ],
      "execution_count": 24
    },
    {
      "id": "32f854c1-75c3-4cdf-992a-009cb595b2a7",
      "cell_type": "code",
      "source": "x=  input(\"1. sayı : \")\ny = input(\"2. sayı : \")\ntoplam = x + y\nprint(x+y)",
      "metadata": {
        "trusted": true
      },
      "outputs": [
        {
          "output_type": "stream",
          "name": "stdin",
          "text": "1. sayı :  45\n2. sayı :  55\n"
        },
        {
          "name": "stdout",
          "output_type": "stream",
          "text": "4555\n"
        }
      ],
      "execution_count": 25
    },
    {
      "id": "0d656735-c0b1-43c1-b3e7-10e46b30e6b1",
      "cell_type": "code",
      "source": "x = input (\"1.sayı : \")\ny = input (\"2. sayı : \")\nprint(type(x))\nprint(type(y))\ntoplam = int(x) + int(y) # burada str yi int e çevirme işlmei yaptık\nprint(toplam)",
      "metadata": {
        "trusted": true
      },
      "outputs": [
        {
          "output_type": "stream",
          "name": "stdin",
          "text": "1.sayı :  24\n2. sayı :  55\n"
        },
        {
          "name": "stdout",
          "output_type": "stream",
          "text": "<class 'str'>\n<class 'str'>\n79\n"
        }
      ],
      "execution_count": 27
    },
    {
      "id": "61c8535b-3e52-4b35-ba02-82a1395d265d",
      "cell_type": "code",
      "source": "'''\nDaire alanı = πr**2\nDaire çevresi = 2πr\nYarıçapı ve çapı verilen dairenin alanını ve çevresini hesaplayınız'''\nyaricap = float(input(\"Yarıçap : \"))# input çıktısı her zaman str bir değer döndürür str bir değer ile int veya float değer çarpılamaz.\npi = 3.14\ncevre = 2*pi*yaricap\nalan = pi*yaricap**2\nprint(\"cevre\", cevre)\nprint(\"alan\", alan)\n",
      "metadata": {
        "trusted": true
      },
      "outputs": [
        {
          "output_type": "stream",
          "name": "stdin",
          "text": "Yarıçap :  12\n"
        },
        {
          "name": "stdout",
          "output_type": "stream",
          "text": "cevre 75.36\nalan 452.16\n"
        }
      ],
      "execution_count": 30
    },
    {
      "id": "0eb8645d-56dc-4d75-93e6-381bedd96680",
      "cell_type": "code",
      "source": "pi = 3.14\nr = float(input(\"yaricap : \"))\nalan = pi*r**2\ncevre = 2*pi*r\nprint(\"Alan :  \" +  str(alan) +  \" Çevre :  \" + str(cevre))\n",
      "metadata": {
        "trusted": true
      },
      "outputs": [
        {
          "output_type": "stream",
          "name": "stdin",
          "text": "yaricap :  3\n"
        },
        {
          "name": "stdout",
          "output_type": "stream",
          "text": "Alan :  28.26 Çevre :  18.84\n"
        }
      ],
      "execution_count": 36
    },
    {
      "id": "6d411839-938a-499b-b817-9f9e8ba908a1",
      "cell_type": "code",
      "source": "name = 'Ferhat'\nSurname = 'Gudek'\nage = 23\nprint('My name is : '+ name +' '+ Surname+' And I am : '+str(age) +' years old' )",
      "metadata": {
        "trusted": true
      },
      "outputs": [
        {
          "name": "stdout",
          "output_type": "stream",
          "text": "My name is : Ferhat Gudek And I am : 23 years old\n"
        }
      ],
      "execution_count": 5
    },
    {
      "id": "d2090910-c85c-4fb9-b76f-316fb921f7e2",
      "cell_type": "code",
      "source": "name = 'Ferhat'\nSurname = 'Gudek'\nage = 23\ngreeting ='My name is : '+ name +' '+ Surname+' And I am : '+str(age) +' years old' \nprint(greeting[0])\nprint(len(greeting))\nprint(greeting[3:4])\nprint(greeting[0:6:2])\nprint(greeting[-1])",
      "metadata": {
        "trusted": true
      },
      "outputs": [
        {
          "name": "stdout",
          "output_type": "stream",
          "text": "M\n49\nn\nM a\nd\n"
        }
      ],
      "execution_count": 11
    },
    {
      "id": "a23a83ac-d53c-41d2-a27d-62a6f0335a63",
      "cell_type": "code",
      "source": "name = 'Ferhat'\nSurname = 'Gudek'\nprint(\"My name is {}, my surname is {}\".format(name, Surname))",
      "metadata": {
        "trusted": true
      },
      "outputs": [
        {
          "name": "stdout",
          "output_type": "stream",
          "text": "My name is Ferhat, my surname is Gudek\n"
        }
      ],
      "execution_count": 13
    },
    {
      "id": "0105eaaa-097e-4a11-88f3-e48096d8d5a9",
      "cell_type": "code",
      "source": " name = 'Ferhat'\nSurname = 'Gudek'\nprint(\"My name is {1}, my Surname is {0}\".format(name,Surname))",
      "metadata": {
        "trusted": true
      },
      "outputs": [
        {
          "name": "stdout",
          "output_type": "stream",
          "text": "My name is Gudek, my Surname is Ferhat\n"
        }
      ],
      "execution_count": 14
    },
    {
      "id": "1a82561d-6a18-4054-825d-b00f10bf1717",
      "cell_type": "code",
      "source": "result = 300/500\nprint('İşlemin sonucu :{} '.format(result))",
      "metadata": {
        "trusted": true
      },
      "outputs": [
        {
          "name": "stdout",
          "output_type": "stream",
          "text": "İşlemin sonucu :0.6 \n"
        }
      ],
      "execution_count": 17
    },
    {
      "id": "c3a780d4-fb21-437e-83c1-736f823d5f7b",
      "cell_type": "code",
      "source": "result = 123 / 455\nprint(\"İşlemin sonucu : {r:1.2}\".format(r=result))",
      "metadata": {
        "trusted": true
      },
      "outputs": [
        {
          "name": "stdout",
          "output_type": "stream",
          "text": "İşlemin sonucu : 0.27\n"
        }
      ],
      "execution_count": 20
    },
    {
      "id": "a6904355-2cdc-4a29-ae18-f617814bbb49",
      "cell_type": "code",
      "source": "name = 'Ferhat'\nsurname = 'gudek'\nAge = 24\nprint(f\"My name is {name}, my surname is {surname}, and i am {Age} years old.\")",
      "metadata": {
        "trusted": true
      },
      "outputs": [
        {
          "name": "stdout",
          "output_type": "stream",
          "text": "My name is Ferhat, my surname is gudek, and i am 24 years old.\n"
        }
      ],
      "execution_count": 24
    },
    {
      "id": "9a9fdb5e-a650-4b7c-aebd-be56ce636b9b",
      "cell_type": "code",
      "source": "#Uygulama için bir örnek istenilen ifadeleri verilen değişkenlerle yapmaya çalışalım\nwebsite = \"http://www.FerhatGudek.com\"\ncourse = \"Python kursu : Baştan sona haria bir eğitim almanızı istiyoruz (100 ile)\"\n\n#Course karakter dizisinde kaç karakter bulunmaktadır ?\nlen(course)\n#website içindeki www karakterlerini alınız.\nlen(course[8:12]) # bu boyu için \nwebsite[7:10] # bu direkt karakterleri verir.\n# website içindeki com karakterlerini alınız\nwebsite[-3:]\n#course içindeki ilk 15 ve son 15 karakterleri alınız\ncourse[:15]# ilk 15\ncourse[-15:] # son 15\n#Asagıdaki değişkenlerle verilen ifadeyi yazmaya çalışalım\n#  \"Benim adım Ferhat Güdek , yaşım 24 ve mesleğim fizikçi\"\nname, surname, age , job = \"Ferhat\", \"Güdek\", 24 , \"fizikçi\"\nprint(f\"Benim adım {name} {surname}, yaşım {age} ve mesleğim {job}\")",
      "metadata": {
        "trusted": true
      },
      "outputs": [
        {
          "name": "stdout",
          "output_type": "stream",
          "text": "Benim adım Ferhat Güdek, yaşım 24 ve mesleğim fizikçi\n"
        }
      ],
      "execution_count": 38
    },
    {
      "id": "b12c48dd-1955-4028-9829-9a8b622e9fe9",
      "cell_type": "code",
      "source": "#course ifadesinideki karakterleri tersten yazdıralım\ncourse[::] # tüm karakterleri yazar\ncourse[::-1] # tüm karakterleri tersten yazar.\n# \"Hello world\" ifadsindeki \"w\" ile \"W\" yer değiştirelim\ns = \"Hello world\"\nt = s[0:4]+'",
      "metadata": {
        "trusted": true
      },
      "outputs": [
        {
          "execution_count": 40,
          "output_type": "execute_result",
          "data": {
            "text/plain": "')eli 001( zuroyitsi ızınamla mitiğe rib airah anos natşaB : usruk nohtyP'"
          },
          "metadata": {}
        }
      ],
      "execution_count": 40
    },
    {
      "id": "d69facfc-9415-45f2-9f5a-a38702d1c76a",
      "cell_type": "code",
      "source": "",
      "metadata": {
        "trusted": true
      },
      "outputs": [],
      "execution_count": null
    }
  ]
}