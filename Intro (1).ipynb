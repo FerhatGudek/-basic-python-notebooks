{
  "metadata": {
    "kernelspec": {
      "name": "python",
      "display_name": "Python (Pyodide)",
      "language": "python"
    },
    "language_info": {
      "codemirror_mode": {
        "name": "python",
        "version": 3
      },
      "file_extension": ".py",
      "mimetype": "text/x-python",
      "name": "python",
      "nbconvert_exporter": "python",
      "pygments_lexer": "ipython3",
      "version": "3.8"
    }
  },
  "nbformat_minor": 5,
  "nbformat": 4,
  "cells": [
    {
      "id": "a4c238f7-1f71-4bdd-94d4-897bf3a532d6",
      "cell_type": "code",
      "source": "print(\"abdullah ile birlikte el ele\")\nprint(\"İsmim ferhat güdek ben yazılımcı bir fizikçiyim\")\n\n",
      "metadata": {
        "trusted": true
      },
      "outputs": [
        {
          "name": "stdout",
          "output_type": "stream",
          "text": "abdullah ile birlikte el ele\nİsmim ferhat güdek ben yazılımcı bir fizikçiyim\n"
        }
      ],
      "execution_count": 1
    },
    {
      "id": "98c6add8-0e80-4a6d-a520-14f46872f007",
      "cell_type": "code",
      "source": "input(\"say my mane :\")\ninput(\"İsim soy isminizi giriniz: \")\n",
      "metadata": {
        "trusted": true
      },
      "outputs": [
        {
          "output_type": "stream",
          "name": "stdin",
          "text": "say my mane : Ferhat\nİsim soy isminizi giriniz:  Ferhat güdek\n"
        },
        {
          "execution_count": 2,
          "output_type": "execute_result",
          "data": {
            "text/plain": "'Ferhat güdek'"
          },
          "metadata": {}
        }
      ],
      "execution_count": 2
    },
    {
      "id": "bfee2bbf-babd-4648-83f0-6cd4a950104f",
      "cell_type": "code",
      "source": "print(5000 - (5000*0.27))\nprint(800*2*(78/14))",
      "metadata": {
        "trusted": true
      },
      "outputs": [
        {
          "name": "stdout",
          "output_type": "stream",
          "text": "3650.0\n8914.285714285714\n"
        }
      ],
      "execution_count": 5
    },
    {
      "id": "ed408a18-9f7c-4b52-93b8-536964b48503",
      "cell_type": "code",
      "source": "print(4000 - (4000*0.27))",
      "metadata": {
        "trusted": true
      },
      "outputs": [
        {
          "name": "stdout",
          "output_type": "stream",
          "text": "2920.0\n"
        }
      ],
      "execution_count": 7
    },
    {
      "id": "e7c58af6-0220-479b-88cb-afbaf88f782b",
      "cell_type": "code",
      "source": "print(5000 - (5000*0.27))\nprint(4000 - (4000*0.27)) #Pythonda ondalıklı sayıları belirtirken virgül yerine nokta kullanılır .",
      "metadata": {
        "trusted": true
      },
      "outputs": [
        {
          "name": "stdout",
          "output_type": "stream",
          "text": "3650.0\n2920.0\n"
        }
      ],
      "execution_count": 8
    },
    {
      "id": "17d207de-ca38-4bf7-837c-de1271c16b8c",
      "cell_type": "code",
      "source": "maasAli = 5000\nmaasAhmet = 4000\nvergi = 0.27\nprint(maasAli - (maasAli*vergi))\nprint(maasAhmet - (maasAhmet*vergi))",
      "metadata": {
        "trusted": true
      },
      "outputs": [
        {
          "name": "stdout",
          "output_type": "stream",
          "text": "3650.0\n2920.0\n"
        }
      ],
      "execution_count": 7
    },
    {
      "id": "b4586819-3b31-40a1-999d-b6501b80876e",
      "cell_type": "code",
      "source": "#degisken rakam ile başlayamaz",
      "metadata": {
        "trusted": true
      },
      "outputs": [],
      "execution_count": 8
    },
    {
      "id": "28193f1e-c78c-4010-8e07-7d5326b6b8fa",
      "cell_type": "code",
      "source": "number = 10\nprint(\"number\")\nnumber += 50\nprint(\"number\") #print(\"gafd\") ile olan ifadeler direkt str olarak algılandığı için sayısal değer vermez , sayısal değer vermesi için tırnaksız\n# yani print(gfhgfh) olması gerekir. gfgdafgh = 10 mesela",
      "metadata": {
        "trusted": true
      },
      "outputs": [
        {
          "name": "stdout",
          "output_type": "stream",
          "text": "number\nnumber\n"
        }
      ],
      "execution_count": 9
    },
    {
      "id": "84ee2f7a-3df1-4e8e-9c30-c333f3780e2f",
      "cell_type": "code",
      "source": "number1= 10\nprint(number1)\nnumber += 20\nprint(number)",
      "metadata": {
        "trusted": true
      },
      "outputs": [
        {
          "name": "stdout",
          "output_type": "stream",
          "text": "10\n170\n"
        }
      ],
      "execution_count": 12
    },
    {
      "id": "2760d246-2faf-482e-bb6e-7a533e831444",
      "cell_type": "code",
      "source": "#degiskende turkce karakter kullanmayalım",
      "metadata": {
        "trusted": true
      },
      "outputs": [],
      "execution_count": 11
    },
    {
      "id": "b1a89bd7-47fc-4cab-8e0b-5819493d64b2",
      "cell_type": "code",
      "source": "# x = 1 # int\n# y = 2.3 #float\n# name = 'Çınar' # str\n# isStudent = true # bool",
      "metadata": {
        "trusted": true
      },
      "outputs": [],
      "execution_count": 13
    },
    {
      "id": "b8fca81f-dc5f-4b48-b576-f37eebc6d50a",
      "cell_type": "code",
      "source": "a = '10'\nb = '20'\nprint(a+b)\nprint(\"\\n........\\n\") # eğer değişkenler '10' şeklinde str olarak verilip print(a) yapılırsa çıktı str olarak algılar ve o şekil çıktı verir\n",
      "metadata": {
        "trusted": true
      },
      "outputs": [
        {
          "name": "stdout",
          "output_type": "stream",
          "text": "1020\n\n........\n\n"
        }
      ],
      "execution_count": 13
    },
    {
      "id": "1e0f4d24-1123-4eb1-bc5f-b68d58d6a251",
      "cell_type": "code",
      "source": "a = 10\nb = 20\nprint(a+b)\nprint(\"\\n ... \\n... \\n\")\n\n",
      "metadata": {
        "trusted": true
      },
      "outputs": [
        {
          "name": "stdout",
          "output_type": "stream",
          "text": "30\n\n ... \n... \n\n"
        }
      ],
      "execution_count": 15
    },
    {
      "id": "90bf22b9-f6e0-4974-bd64-57e04dafe07b",
      "cell_type": "code",
      "source": "x, y, name , isStudent = (2, 2.4, 'Ferhat', 'true')# str bir ifade değişken verilirken içinde mutlaka ' jlkjj' tırnak içinde olmalı\nprint('name' , 'x' ,  'isStudent' ,  'y') #mesela name ferhat olarak atandı ancak printte 'name' diye basıldığı için str olarak name yazdı\nprint(name , x , isStudent , y)",
      "metadata": {
        "trusted": true
      },
      "outputs": [
        {
          "name": "stdout",
          "output_type": "stream",
          "text": "name x isStudent y\nFerhat 2 true 2.4\n"
        }
      ],
      "execution_count": 17
    },
    {
      "id": "fb63d242-a30e-4f3d-93f1-b97b111d8596",
      "cell_type": "code",
      "source": "order1 = 45\norder2 = 55\norder3 = 65\ntotal = order1+order2+order3\nprint(\"total\", total)",
      "metadata": {
        "trusted": true
      },
      "outputs": [
        {
          "name": "stdout",
          "output_type": "stream",
          "text": "total 165\n"
        }
      ],
      "execution_count": 21
    },
    {
      "id": "76566e20-9bce-47fc-b8cf-6fe05c9b0ea8",
      "cell_type": "code",
      "source": "order1 = '45'\norder2= '55'\norder3= '65'\ntotal = order1+ order2+ order3\nprint(\"toplam\", total) # ifade str olguğu için böyle yan yana metinmiş gibi algıladı",
      "metadata": {
        "trusted": true
      },
      "outputs": [
        {
          "name": "stdout",
          "output_type": "stream",
          "text": "toplam 455565\n"
        }
      ],
      "execution_count": 24
    },
    {
      "id": "32f854c1-75c3-4cdf-992a-009cb595b2a7",
      "cell_type": "code",
      "source": "x=  input(\"1. sayı : \")\ny = input(\"2. sayı : \")\ntoplam = x + y\nprint(x+y)\nprint(\"toplam\")\nprint(toplam)\nprint(type(x))",
      "metadata": {
        "trusted": true
      },
      "outputs": [
        {
          "output_type": "stream",
          "name": "stdin",
          "text": "1. sayı :  14\n2. sayı :  16\n"
        },
        {
          "name": "stdout",
          "output_type": "stream",
          "text": "1416\ntoplam\n1416\n<class 'str'>\n"
        }
      ],
      "execution_count": 21
    },
    {
      "id": "0d656735-c0b1-43c1-b3e7-10e46b30e6b1",
      "cell_type": "code",
      "source": "x = input (\"1.sayı : \")\ny = input (\"2. sayı : \")\nprint(type(x))\nprint(type(y))\ntoplam = int(x) + int(y) # burada str yi int e çevirme işlmei yaptık\nprint(toplam)",
      "metadata": {
        "trusted": true
      },
      "outputs": [
        {
          "output_type": "stream",
          "name": "stdin",
          "text": "1.sayı :  24\n2. sayı :  55\n"
        },
        {
          "name": "stdout",
          "output_type": "stream",
          "text": "<class 'str'>\n<class 'str'>\n79\n"
        }
      ],
      "execution_count": 27
    },
    {
      "id": "61c8535b-3e52-4b35-ba02-82a1395d265d",
      "cell_type": "code",
      "source": "'''\nDaire alanı = πr**2\nDaire çevresi = 2πr\nYarıçapı ve çapı verilen dairenin alanını ve çevresini hesaplayınız'''\nyaricap = float(input(\"Yarıçap : \"))# input çıktısı her zaman str bir değer döndürür str bir değer ile int veya float değer çarpılamaz.\npi = 3.14\ncevre = 2*pi*yaricap\nalan = pi*yaricap**2\nprint(\"cevre\", cevre)\nprint(\"alan\", alan)\n",
      "metadata": {
        "trusted": true
      },
      "outputs": [
        {
          "output_type": "stream",
          "name": "stdin",
          "text": "Yarıçap :  5\n"
        },
        {
          "name": "stdout",
          "output_type": "stream",
          "text": "cevre 31.400000000000002\nalan 78.5\n"
        }
      ],
      "execution_count": 22
    },
    {
      "id": "0eb8645d-56dc-4d75-93e6-381bedd96680",
      "cell_type": "code",
      "source": "pi = 3.14\nr = float(input(\"yaricap : \"))\nalan = pi*r**2 #üs almak için iki adet ** olması gerekir ardınan gelen sayı üs olarak gelmiş sayılır.\ncevre = 2*pi*r\nprint(\"int(alan) :  \" +  str(alan) +  \" Çevre :  \" + str(cevre)) #buna tekrar bakılabilir.\n",
      "metadata": {
        "trusted": true
      },
      "outputs": [
        {
          "output_type": "stream",
          "name": "stdin",
          "text": "yaricap :  6\n"
        },
        {
          "name": "stdout",
          "output_type": "stream",
          "text": "int(alan) :  113.04 Çevre :  37.68\n"
        }
      ],
      "execution_count": 27
    },
    {
      "id": "6d411839-938a-499b-b817-9f9e8ba908a1",
      "cell_type": "code",
      "source": "name = 'Ferhat'\nSurname = 'Gudek'\nage = 23\nprint('My name is : '+ name +' '+ Surname+' And I am : '+str(age) +' years old' )\nprint('This is : ' + name + ' ' + Surname + ' bi de ' + str(age) + ' gibi gelirim')",
      "metadata": {
        "trusted": true
      },
      "outputs": [
        {
          "name": "stdout",
          "output_type": "stream",
          "text": "My name is : Ferhat Gudek And I am : 23 years old\nThis is : Ferhat Gudek bi de 23 gibi gelirim\n"
        }
      ],
      "execution_count": 31
    },
    {
      "id": "d2090910-c85c-4fb9-b76f-316fb921f7e2",
      "cell_type": "code",
      "source": "name = 'Ferhat'\nSurname = 'Gudek'\nage = 23\ngreeting ='My name is : '+ name +' '+ Surname+' And I am : '+str(age) +' years old' \nprint(greeting[0])# greeting değişkeninin ilk harfini verdi\nprint(len(greeting))# değişkenin tam boyunu verdi\nprint(greeting[3:4])\nprint(greeting[0:6:2])\nprint(greeting[-1])# en sondaki değeri verdi",
      "metadata": {
        "trusted": true
      },
      "outputs": [
        {
          "name": "stdout",
          "output_type": "stream",
          "text": "M\n49\nn\nM a\nd\n"
        }
      ],
      "execution_count": 11
    },
    {
      "id": "a23a83ac-d53c-41d2-a27d-62a6f0335a63",
      "cell_type": "code",
      "source": "name = 'Ferhat'\nSurname = 'Gudek'\nprint(\"My name is {}, my surname is {}\".format(name, Surname))\nprint(\" Geldi yine baba {}, soyadı da {}\".format(name, Surname))",
      "metadata": {
        "trusted": true
      },
      "outputs": [
        {
          "name": "stdout",
          "output_type": "stream",
          "text": "My name is Ferhat, my surname is Gudek\n Geldi yine baba Ferhat, soyadı da Gudek\n"
        }
      ],
      "execution_count": 32
    },
    {
      "id": "0105eaaa-097e-4a11-88f3-e48096d8d5a9",
      "cell_type": "code",
      "source": " name = 'Ferhat'\nSurname = 'Gudek'\nprint(\"My name is {1}, my Surname is {0}\".format(name,Surname))",
      "metadata": {
        "trusted": true
      },
      "outputs": [
        {
          "name": "stdout",
          "output_type": "stream",
          "text": "My name is Gudek, my Surname is Ferhat\n"
        }
      ],
      "execution_count": 14
    },
    {
      "id": "1a82561d-6a18-4054-825d-b00f10bf1717",
      "cell_type": "code",
      "source": "result = 300/500\nprint('İşlemin sonucu :{} '.format(result))",
      "metadata": {
        "trusted": true
      },
      "outputs": [
        {
          "name": "stdout",
          "output_type": "stream",
          "text": "İşlemin sonucu :0.6 \n"
        }
      ],
      "execution_count": 17
    },
    {
      "id": "c3a780d4-fb21-437e-83c1-736f823d5f7b",
      "cell_type": "code",
      "source": "result = 123 / 455\nprint(\"İşlemin sonucu : {r:1.3}\".format(r=result))",
      "metadata": {
        "trusted": true
      },
      "outputs": [
        {
          "name": "stdout",
          "output_type": "stream",
          "text": "İşlemin sonucu : 0.27\n"
        }
      ],
      "execution_count": 1
    },
    {
      "id": "a6904355-2cdc-4a29-ae18-f617814bbb49",
      "cell_type": "code",
      "source": "name = 'Ferhat'\nsurname = 'gudek'\nAge = 24\nprint(f\"My name is {name}, my surname is {surname}, and i am {Age} years old.\")",
      "metadata": {
        "trusted": true
      },
      "outputs": [
        {
          "name": "stdout",
          "output_type": "stream",
          "text": "My name is Ferhat, my surname is gudek, and i am 24 years old.\n"
        }
      ],
      "execution_count": 24
    },
    {
      "id": "9a9fdb5e-a650-4b7c-aebd-be56ce636b9b",
      "cell_type": "code",
      "source": "#Uygulama için bir örnek istenilen ifadeleri verilen değişkenlerle yapmaya çalışalım\nwebsite = \"http://www.FerhatGudek.com\"\ncourse = \"Python kursu : Baştan sona haria bir eğitim almanızı istiyoruz (100 ile)\"\n\n#Course karakter dizisinde kaç karakter bulunmaktadır ?\nlen(course)\n#website içindeki www karakterlerini alınız.\nlen(course[8:12]) # bu boyu için \nwebsite[7:10] # bu direkt karakterleri verir.\n# website içindeki com karakterlerini alınız\nwebsite[-3:]\n#course içindeki ilk 15 ve son 15 karakterleri alınız\ncourse[:15]# ilk 15\ncourse[-15:] # son 15\n#Asagıdaki değişkenlerle verilen ifadeyi yazmaya çalışalım\n#  \"Benim adım Ferhat Güdek , yaşım 24 ve mesleğim fizikçi\"\nname, surname, age , job = \"Ferhat\", \"Güdek\", 24 , \"fizikçi\"\nprint(f\"Benim adım {name} {surname}, yaşım {age} ve mesleğim {job}\")",
      "metadata": {
        "trusted": true
      },
      "outputs": [
        {
          "name": "stdout",
          "output_type": "stream",
          "text": "Benim adım Ferhat Güdek, yaşım 24 ve mesleğim fizikçi\n"
        }
      ],
      "execution_count": 2
    },
    {
      "id": "b12c48dd-1955-4028-9829-9a8b622e9fe9",
      "cell_type": "code",
      "source": "#course ifadesinideki karakterleri tersten yazdıralım\ncourse[::] # tüm karakterleri yazar\ncourse[::-1] # tüm karakterleri tersten yazar.\n# \"Hello world\" ifadsindeki \"w\" ile \"W\" yer değiştirelim\ns = \"Hello world\"\nt = s[0:4]+",
      "metadata": {
        "trusted": true
      },
      "outputs": [
        {
          "ename": "<class 'SyntaxError'>",
          "evalue": "invalid syntax (<ipython-input-5-8d01c2c34f0e>, line 6)",
          "traceback": [
            "\u001b[0;36m  Cell \u001b[0;32mIn[5], line 6\u001b[0;36m\u001b[0m\n\u001b[0;31m    t = s[0:4]+\u001b[0m\n\u001b[0m               ^\u001b[0m\n\u001b[0;31mSyntaxError\u001b[0m\u001b[0;31m:\u001b[0m invalid syntax\n"
          ],
          "output_type": "error"
        }
      ],
      "execution_count": 5
    },
    {
      "id": "76bad365-6a82-47ee-b4d0-48a43e20bb0f",
      "cell_type": "code",
      "source": "#website = \"http://www.FerhatGudek.com\"\n#course = \"Python kursu : Baştan sona haria bir eğitim almanızı istiyoruz (100 ile)\"\n#'hello world' karakter dizisinin başktaki ve sondaki boşluk  karakterlerini siliniz\n#result = 'hello world'.strip()#baştaki ve sondaki boşluk karakterlerini siler\n#result = 'hello world'.lstrip()# k strip soldan r strip sağdan siler\n#result = website.lstrip(\"/ht\")# soldan sildi\n# 'www.FerhatGudek.com' içindeki ferhatgudek dışındaki her şeyi silin\n#result= 'www.FerhatGudek.com'.strip('w.com')\n#course karakter dizisinin tüm harflerini küçük harf yapın\n#result = course.upper()#büyük harf yapar\n#result = course.lower# hepsini küçük harf yapar ayrıca title ise sadece kelimenin baş harfini büyük yapar\n# website içinde kaç tane a karakteri vardır gösteriniz\n#result = website.count('a')\n#website ifadesi \"www\" ifadesi ile başlayıp bitiyor mu\n#result = website.startswith(\"www\")#false dedi\n#result = website.startswith(\"http\")# true dedi ayrıca endswith ile de sonlanıyor mu testi yaparız\n# website içinde .com ifadesi var mı \n#result = website.find('.com')# verilen değer .com un başındaki yani . nın indeks değerini verir. Yanına virgül ('.com',0,10) ile aralıklı bakılır\n# website.index('com') de aynı find gibi çalışır bulunan sonuç direkt indeks numarasını verir.\n# karakter içindeki tüm sayılar alfabetik mi sayısal mı için ise course.isalpha() = alfabetik course.isdigit() = sayısal mı ifadesini söyler\n#result = 'Conteynir_evler'.center(50,'&')\n# 'course' ifadesindeki tüm boşluk karakterler ile '-' ifadesinin yerini değiştiriniz\n#result = course.replace(' ', '-',5)\n# course karakter dizisinin boşluk karakterlerinden ayırın\n#result = course.split(' ') # boşluktan itibaren küme elemanları gibi ayırır.\n#message = 'hello dear my name is ferhat gudek'.split()\n#print(message[0]) # ayrılmış küme elemanlarının 0 yani ilk elemanını ifade eder\n#my_list = [1,2,3]\n#my_list = ['bir', 2, True , 5.6]# en son bu tanımlandığı için bunu yazdı baştaki tanımlanan 1,2,3  ü yazmadı\n#list1= ['one','two','three']\n#list2= ['four','five','six']\n# numbers = list1+ list2# iki diziyi de birleştirir.\n#userA = ['Ferhat', 24]\n#userB= ['Samed', 19]\n#users = userA + userB\n#print(users)\n#print(users[3]) # 19 ifdadesini yazıdır.\n#...................................................#\n# bmw, mercedes, opel ve mazda modellerini içeren bir liste oluşuturunuz\narabalar = ['bmw', 'mercedes', 'opel', 'mazda']\n#liste kaç elemanlıdır\n#result =len(arabalar)\n#print(result)\n# listenin ilk ve son elemanı nedir\n#result = arabalar[-1]# ilk elemanını [0] son elemanını [-1] verir\n# mazda modelini toyota ile yer değiştirin\narabalar[-1] = 'toyota' # mazda ile toyotanın yeri değişmiş oldu\n# merceden listenin bir elemanı mıdır\nresult = 'mercedes' in arabalar # True ifadesi dönecektir\n# listenin ilk üç elemanını alın\n#result = arabalar[0:3]\n# listenin son iki elemanı yerine renault ve toyota ekleyin\n#arabalar[-2: ] = ['Renault', 'toyota']\n#...................................#\nnumbers = [1,10,2,4,6,87,4]\nletters = ['a', 'v', 'ı', 'r', 'k']\n#val = min(numbers)\n#val = min(letters)\n#val = max(numbers)\n#val = max(letters)# bunlar sayısal ve alfabetik sıralamaya göre en baş veya son değeri verir\n#numbers[4] = 30 # 3. elemana 30 değerini atamış oldum\n#numbers.append(93) # append listenin sonuna ekleme yapar insert (x,y) yaptığımızda x. indekse y değerini atar yani kontrol bizdedir.\n#numbers.pop(0) # ilk elemanı siler\n#numbers.remove(87) # remove metotuyla istediğimiz değeri listeden silebiliriz\n#numbers.sort() # sayısal olarak sıralanır eğer letters e yapmış olsaydık alfabetik olarak sıralanaaktı\n#print(numbers.count(10)) # direkt numbers içndeki 10 ifadesinin kaç tane olduğunu sıraladık\n#numbers.clear() # listenin tüm değerlerini siler \n#........................................#\n\nnames = ['Ali', 'yagmur', 'hakan', 'melis']\nyears = [1999, 2001, 2006]\n# 'Cenk' ismini listesinin sonuna ekleyiniz\n#names.append('Cenk') \n# sena değerini listenin başına ekleyiniz\n#names.insert(0,'sena')\n# melis isminin indeksi nedir\n#index = names.index('melis') \n#elemanları ters çeviriniz\n#names.reverse()\n# str = 'Dacia', 'Chevrolet' ifadesini listeye çeviriniz\n#str = \"Dacia, Chevrolet\"\n#result = str.split(',')\n# Kullanıcıdan aldığınız üc adet marka bilgisini listede saklayıız\n#markalar= []\n#marka = input(\"Lütfen 1. markayı giriniz: \")\n#markalar.append(marka)\n#........................#\n#list = [1,4,6,8]\n#tuple = (1,'a', 'bir', 4)\n#print(type(list))\n#print(type(tuple_))# type da list gibi çalışır benzerdir\n#tuple = (\"Damla\", \"ayse\", \"fatma\")\n#list = ['ali', 'veli']\n#names = (\"demet\", \"emel\", \" fıstık\") + tuple # birleştirme işlemi yapmış olduk\n#sehirler = ['Kocaeli', 'Istanbul']\n#plakalar = [41,36]\n#print(plakalar[sehirler.index('Kocaeli')]) # bize 41 sonucunu verecektir\n\n#users = {\n #   'FerhatGudek' : 24,\n #   'SamedGudek' : 19\n# }\n#print(users) # sonuclar liste yöntemiyle daha da ayrıntılarını girilerek [] karın tarafına yazılan değer ile erişilebilr\n\n#ogrenciler = {}\n#number: input(\"Öğrenci no : \")\n#name : input(\"Öğrenci adı : \")\n#surname : input(\"Öğrenci soyadı: \")\n#phone : input(\"Öğrenci telefon no : \")\n\n\n\n#ogrenciler.update({\n#    number: {\n#        'ad':name,\n #       'soyad': surname,\n #       'telephone':phone\n #   }\n#})\n# print(ogrenciler) # aslında number değişkeni girilerek diğer tüm değerlerin gelmesi gösterilmiştir\n\nfruits = {'orange', 'apple', 'banana',} # print(fruits[0]) indekslenemez\n#for x in fruits:\n #   print(x) # \n#fruits.add('cherry') # meyveler kısmına cherry i ekler\n#fruits.update(['mango','grape','apple']) # rastgele olarak ekler \n#print(fruits)\n#mylist = [1,5,6,9,4]\n#print(mylist)\n#print(set(mylist)) # set değerleri rastgele olarak dağıttı\n#fruits.discard('apple') # apple ı listeden atar aynı .remove gibi çalışır\n#print(fruits)\n# x= 5 y=10 X=y oldğunda x değeri artık 10 değerini alır ancak y değişmez hala 10 değerindedir listede durum ise x ile y tamamen aynı adrese atanır aynı değerleri verir\n",
      "metadata": {
        "trusted": true
      },
      "outputs": [
        {
          "name": "stdout",
          "output_type": "stream",
          "text": "{'mango', 'banana', 'grape', 'orange', 'cherry', 'apple'}\n[1, 5, 6, 9, 4]\n{1, 4, 5, 6, 9}\n{'mango', 'banana', 'grape', 'orange', 'cherry'}\n"
        }
      ],
      "execution_count": 16
    },
    {
      "id": "b0904c2a-0266-44c4-af85-aaf17ce4441e",
      "cell_type": "code",
      "source": "#x = 5\n#y = 10\n#x += 10\n#y /= 5 # x = 15 ve y = 2 değerlerini alırız x%5 ise x in 5 bile bölümünden kalan , x // 5 ise x in 5 ile kaç kez bölündüğünü gösterir\n#values = 1,2,3,4,5\n#x,*y,z = values # eğer değer uyuşmazlığı varsa yıldızlı şekilde olan ifade boşta kalan değerleri kendisi alır uyuşma oluşur \n#print(type(values)) # burada x y z değerlerine 1,2,3 değerleri atandı\n#print(x,y,z)\n#print(x,y[1],z)# burada belirtili değer üzerinden işlem ilerler\nx,y,z = 2,5,10\nnumbers= 1,3,4,6,3\n# Kullanıcıdan alığınız 2 sayının çarpımı ile x,y,z toplamının farkı nedir ?\n#a = int(input(\"1. sayı : \"))\n#b = int(input(\" 2. sayı : \"))\n#result= (a*b)-(x+y+z) \n#print(result)\n# y'nin x' e kalansız bölümünüü hesaplayınız\n#result = y // x\n#print(result)\n# x,y,z toplamının mod 3 ü nedir\n#toplam = x+y+z \n#result = toplam%3\n#print(result)\n#y' nin x kuvvetini hesaplayınız\n#result= y**x\n#print(result)\n# x,*y,z = numbers işlemine göre z'nin küpü kaçtır\n#numbers= 1,3,4,6,3\n#x,*y,z = numbers\n#result = z**3\n#print(result)\n# x,*y,z = numbers işlemine göre y'nin toplamı kaçtır\n#numbers= 1,3,4,6,3\n#x,*y,z = numbers\n#result = y[0]+y[1]+y[2]\n#print(result)\n#.....................................#\na,b,c,d = 5,5,10,4\npassword = '1234'\nusername = 'ferhatgudek'\n#result = (a==b) # True döndürür\n#result = (a==c) # false döndürür\n#print(result)\n#result = ('frhtgdk' == username)\n#result = ('ferhatgudek'== username)\n#print(result) # printi hep yapılan işlemin sonuna yazmaya çalış yoksa karışıklık yapıyor\n#result = (a != b) # a b ye eşit değil mi sorusuydu burada false yanıtını alırız çünkü a = b şeklinde tanımladık\n#print (result)\n#result = True == 1 # burada direkt True olarak tanımladığımız için her türlü sonuc True değerini döndürecektir\n#print(result)\n#result = False + True + 40\n#print(result) = burada 41 değerini döndürecektir false = 0 True = 1 olduğu için\n#.......................#\n#Girilen iki sayıdaan hangisi daha büyüktür\n# a = int(input(\" 1. sayı : \"))\n# b = int(input(\" 2. sayı : \"))\n# result = (a>b)\n# print(f\" a:{a} sayısı b:{b} sayıdıdan büyüktür {result}\")\n#£email = 'ferhatgudek10@gmail.com'\n#password = '1234abc'\n#girilenemail = input(\" Lütfen email adresini giriniz : \")\n#girilenpassword = input(\"Lütfen şifrenizi giriniz : \")\n#isemail = (email == girilenemail)\n#ispassword = (password == girilenpassword)\n#print(f\" E mail bilgisi doğru mu : {isemail}\")\n#print(f\" Şifre bilgisi doğru mu : {ispassword}\")\n#sayi1 = int(input(\"Lütfen 1. sayıyı giriniz: \"))\n#sayi2 = int(input (\"Lütfen 2. sayıyı giriniz: \"))\n#result = (sayi1 >= sayi2) and (sayi1 > 0)\n#print(f\" {sayi1} büyüktür {sayi2}'den ayrıca {sayi1} sıfırdan da büyüktür \") # not(x>y) x y den büyük değildir şeklinde okunur\n#....................#\n#girilen bir sayının 0 ile 100 arasında olup olmadığını kontrol ediniz \n#sayi = float(input(\" Lütfen bir adet sayı giriniz : \"))\n#result = (sayi > 0) and (sayi < 100)\n#print(f\"{sayi} değeri 0 ile 100 arasında olan bir sayıdır {result}\")\n# girilen bir sayının pozitif çift sayı olup olmadığını kontrol ediniz\n#sayi = int(input(\"Lütfen bir adet sayı giriniz: \"))\n#result = (sayi > 0 ) and (sayi % 2 == 0)\n#print(f\" {sayi} değeri sıfırdan büyük çift bir sayıdır {result}\")\n# örneğin üç adet print ve result yaparak aldığmız değerde ikisi false birisi true şeklinde sonuçlar alırız bunu örneğin üç sayının karşılaştırılmasında kullanabiliriz tabi ki if kullanmadığımız zamanda\n#vize1 = int(input(\"Lütfen vize 1 notununuzu giriniz: \"))\n#vize2 = int(input(\"Lütfen vize 2 notunuzu giriniz: \"))\n#final= int(input(\"Lütfen final notunuzu giriniz: \"))\n#ortalama = ((vize1+vize2)/2)*0.6 + (final*0.4)\n#result= (ortalama>=50) and (final>50)\n#print(f\" {ortalama} ortalamasına sahip öğrenci dersi geçmiştir {result} \")\n#....................................#\n#x = y = [1,2,3]\n#z = [1,2,3]\n#result = (x==y) # True değerini döndürür zaten aynı listeye tabiler\n#print(result) \n#result = (x==z)\n#print(result)# True değerini döndürür değer olarak bakar aynı değerlere sahiptirler\n#result= (x is y)\n#print(result) # True değerini döndürür aynı listeye sahip olduklarından x y ye eşittir\n#result=(x is z)\n#print(result) # false değerini döndürür çünkü aynı değere sahip olsalar bile x z değildir liste adresleri farklıdır\n#result = (x is not z)\n#print(result) # True değerini döndürür is not oparatörü zaten x z değildir demek istemiştir\n#x = ['elma','armut', 'sirke'] # str tanımlarken \" kullanılmaz ' kullanılmalıdır\n#print(\"elma\" in x) # True değerini döndürecektir eğer olmasaydı False değerini döndürecekti",
      "metadata": {
        "trusted": true
      },
      "outputs": [
        {
          "name": "stdout",
          "output_type": "stream",
          "text": "True\n"
        }
      ],
      "execution_count": 49
    },
    {
      "id": "69f76d9e-4ace-4731-91ef-537a449d1a2c",
      "cell_type": "code",
      "source": "# IF ELSE BLOKLARI #\n#username = 'Ferhatgudek'\n#password= 'abc123'\n#girilenname= input(\" Lütfen kullanıcı adını giriniz: \")\n#girilenpassword = input(\"Lütfen şifreyi giriniz: \")\n#if (girilenname == username):\n #   if(girilenpassword == password):\n#        print(\"Kullanıcı adı ve şifre doğru giriş yapabilirsiniz\")\n#    else: \n#        print(\"Girilen şifre hatalı\")\n#else:\n #   print(\"girilen kullanıcı adı hatalı\")\n# x = int(input(\"Lütfen birinci  sayı giriniz : \"))\n# y = int(input(\"Lütfen ikinci sayı giriniz : \" ))\n# if x>y:\n #   print(\"x sayısı y sayısından büyüktür\")# girdi yani print ifadesi if in içinde olması gerekir ayı hizada olduğunda girdi oloarak algılanmaz\n# elif x ==y:\n #   print(\"x sayısı ile y sayısı birbirine eşittir\")\n# else :\n #   print(\"y sayısı x sayısından büyüktür\")\n",
      "metadata": {
        "trusted": true
      },
      "outputs": [
        {
          "output_type": "stream",
          "name": "stdin",
          "text": "Lütfen birinci  sayı giriniz :  5\nLütfen ikinci sayı giriniz :  5\n"
        },
        {
          "name": "stdout",
          "output_type": "stream",
          "text": "x sayısı ile y sayısı birbirine eşittir\n"
        }
      ],
      "execution_count": 4
    },
    {
      "id": "dff0a3ae-0178-4aa7-a63c-6e9c7a5c4b6e",
      "cell_type": "code",
      "source": "# Python döngüler #\n#numbers = [1,2,3,4,5]\n#for num in numbers:\n #   print(num) # for kullanıldıktan sonra girdi için print ifadesinin tab boşuğu kadar içerde olması gerekir\n# names = ['ferhat', 'samed', 'hayriye', 'gültekin']\n# for name in names:\n #   print(f\" My name is :{name}\") # girilen dört değer için my name is ferhat vs döndüdür\n# name = 'ferhatgudek'\n# for n in name:\n #   print(n) # str bir ifadede eğer for döngüsüne sokarsak ifadenin hepsini döndürür \n# tuple = [(1,2),(3,4),(5,6)]\n# for a,b in tuple:\n#    print(a,b) # eğer değerler sıralı şekilde tek tek verilecekse for içinde dönen eleman sayısını artırırız 1 2 3 4 5 6 cevabına ulaşırız\n#d = {'k1':1, 'k2':2, 'k3':3}\n#for item in d:\n #   print(item) # bu şeilde sadece ilgili str ifadeler döngü içindedir değeleri yazılmaz\n#d = {'k1':1, 'k2':2, 'k3':3}\n#for key, value in d.items():\n#    print(key,value) # iki farklı döngü elemanı belirtildiğinde ve ilgili listeye .items yapıldığında ayrı olarak eleman ve değer bilgisi dönecektir\nsayilar = [1,3,4,5,6,7,8,12,14,21,27,34]\n# sayılar listesindeki hangi sayılar 3 ün katıdır\n#for say in sayılar:\n#    if (say%3 == 0):\n#        print(say)\n# sayılar listesindeki sayıların toplamı kaçtır\n#toplam = 0\n#for say in sayılar:\n#    toplam += say\n#    print(toplam) # eğer bu şekildeki gibi print for un içinde olursas tüm toplam değerlerini yazdıdır eğer sonucu yazıdıracaksak bir tab dışarıda olması gerekir\n# sayılar listesindeki tek sayıların karesini alınız\n# for say in sayilar:\n#    if( say%2 == 1):\n#        tekkare = say**2\n#        print(f\" ilgili sayıların karesi : {tekkare} \")\nsehirler = ['ankara', 'îstanbul', 'izmir', 'antalya', 'rize', 'muş']\n# şehirlerden kaç tanesi en fazla 5 karakterlidir\n#for seh in sehirler:\n#    if (len(seh) <= 5 ):\n#       print(f\" istenilen sehirler {seh} \")\nurunler = [\n    {\"name\": 'Samsung S6', 'price': '3000'},\n    {\"name\": 'Samsung S7', 'price': '4000'},\n    {\"name\": 'Iphone 10', 'price': '20000'},\n    {\"name\": 'Iphone 12', 'price': '30000'},\n]\n#ürünlerin fiyatının toplamı nedir\n#toplam = 0\n#for urun in urunler:\n#    fiyat = int(urun['price'])\n#    toplam += fiyat\n#print(toplam)\n#ürünlerden fiyatı en fazla 5000 tl olanları gösteriniz\n#for urun in urunler:\n#    fiyat = int(urun['price'])\n#    if(fiyat <= 5000):\n#        print(urun[\"name\"])\n",
      "metadata": {
        "trusted": true
      },
      "outputs": [
        {
          "name": "stdout",
          "output_type": "stream",
          "text": "Samsung S6\nSamsung S7\n"
        }
      ],
      "execution_count": 37
    },
    {
      "id": "46dae36c-27bf-4649-9449-d8431b2cba5f",
      "cell_type": "code",
      "source": "# while döngüsü #\n# 1-100 e kadar sayıları while döngüsü ile göster\n# x=0\n# while x  < 100:\n#    print(x)\n#    x += 1\n#print(\" bitti\")    # while döngüsü yazılırken ilk döngü elemanınn başlangıç değeri belirlenir, while şartları belirlenir print döngü elemanı denilir\n# ardınan döngü elemanının işlemi tanımlanır istenirse sonuna uyarı mesajı yazılabilir\n# while ile tek veya çift sayı durumunu oluşturma\n# x = 1\n# while x <= 100:\n#    if ( x%2 == 1):\n#        print(f\"{x} sayısı tek bir sayıdır\")\n#    else:\n#        print(f\"{x} sayısı çift bir sayıdır\")\n#    x += 1\n# print(\"işlem bitti\")     \n# while not kullanımına ait bir örnek\n# name = '' #False\n# while not name :\n#    name = input(\"Lütfen isminizi giriniz: \")\n# print(f\"Merhaba {name} \")    # bu yazılan kod boşluğa duyarlı eğer değişkene .strip() yaparsak boşluklara olan duyarlılıklar ortadan kalkacaktır.\n# sayilar = [1,3,4,5,7,9,12,15,18,19,21,24]\n#sayilar listesini while ile ekreana yazdırınız\n# i = 0\n# while (i < len(sayilar)): #len yazarken küçük eşit yaptığımızda hata verdi ancak normal küçüktür koyduğumuzda hata ortadan kalktı\n#    print(sayilar[i])\n#    i += 1\n# print(\"bitti\")    \n# başlangıç ve bitiş değerlerini kullanıcıdan alıp aradaki tüm tek  sayı değerlerini ekreana yazdırılacak\n# baslangıc = int(input(\"Lütfen başlangıç değeri giriiniz: \"))\n# bitis = int(input(\"Lütfen bitiş değerini giriniz: \"))\n# i= baslangıc\n# while i < bitis :\n#    if(i%2 == 1):\n#        print(f\"{i} değeri istenilen aralıktaki tek sayı değeridir\")\n#    i += 1\n# print(\"işlem bitti\")   \n# 1 ile 100 arasındaki sayıları azalan şekilde yazdırın\n# i = 100\n# while i > 0 :\n#    print(i)\n#    i -= 1\n# print(\"işlem bitti\")    \n# 3numbers = []\n#i = 0\n#while i <5 :\n#   sayi = int(input(\" sayı : \"))\n#   numbers.append(sayi)\n#   i += 1\n#numbers.sort    \n#print(numbers)    # bu sayıları ekleme sırasına göre listeye ekler ancak biz sıralı bir şekilde eklemek istiyoruz eger liste ismine . sort eklersek\n#...........................#\n# kullanıcıdan aldığımız ürünler bilgisini ürünler listesinde saklayacağız, * ürün sayısını kullanıcıya sorun *dictionary listesi yapın\n# (name, price ) şeklinde olsun * ürün ekleme işlmei bittiğinde ürünleri while ile ekranda listeleyin\n#urunler = []\n#adet = int(input(\" Kaç adet ürün eklemek istiyorsunuz : \"))\n#i = 0\n#while ( i < adet):\n#    name = input(\"ürün ismi : \")\n#    price = input(\"ürün ücreti : \")\n#    urunler.append({\n#        'name':name,\n#        'price':price\n#    })\n#    i += 1\n# for urun in urunler:\n#    print(f\" ürün adı: {urun['name']}, ürün fiyatı : {urun['price']}\" )\n#..........................#\n#name = 'FerhatGudek'\n#for letter in name:\n#    if letter == 'G':\n#        continue # continue ifadesi eşitlenen değeri almaz ancak devam ettirir break ifadesi eşitlenen değeri almaz ve döngüyü durdurur\n#    print(letter)  \n#for item in range (50,100,20):\n#    print ( item)\n#print(list(range(50,100,20)))    # range bize ilk iki değeri aralığı diğer üçüncü değeri o aralık içindeki ilerleme aralığını verir list ile listeleyebiliriz şekildeki gibi\n# enumerate uygulaması\n#i = 0\n#greeting = 'hello there'\n#for letter in greeting:\n#    print(f\" i: {i}, letter: {greeting[i]} \")\n#    i += 1 # bize indeks değerini ve letter bilgisini ayrı olarak döndürür\n# şimdi ayrı örneğin enumerate uygulamasını görelim\n#greeting = 'Hello there'\n#for i, letter in enumerate(greeting):\n#    print(f\" i:{i}, letter: {greeting[i]}\")\n#    i += 1 # yukardaki olayın aynısını enumerate uygulaması ile gerçekleştirdik\n#list1 = [1,2,3,4,5]\n#list2 = ['a','b','c','d','e']\n#list3 = [100,200,300,400,500]\n#print(list(zip(list1,list2,list3))) # bu uygulamada list 1 değerinin karşılık geldiği list 2 değerleri listeleneerek gösterilir\n3 # list3 eklendiğinde ise bu sefer list1,list2,list3 şeklnide sıralanırlar\n##for item in zip(list1,list2,list3):\n##    print(item) # bu şekilde alt alta parantezli ayrı bir şekilde değerler oluşturulur alttaki uygulamada ise alt alta virgülsüz parantezsiz bir oluşum meydana gelir\n#for a,b,c in zip(list1,list2,list3):\n#    print(a,b,c) \n#for x in range (10):\n#    print(x) # 0 dan 9 a kadar olan sayıları alt alta gelecek şekilde sıralar\n#numbers = [x for x in  range(10)]\n#print(numbers) # bu şekilde yapılırsa bir üste verilen alt alta değerler yan yana virgülle ayrılmış liste içinde verilir\n#            numbers= []\n# bu ifade for x in range (10):\n#                   print(x) ifadesine eşittir aynı değerleri verirler\n#for x in range(10):\n#    print(x**2)\n#numbers = [x**2 for x in range(10)]\n#print(numbers) # üsteki yazım alt alta verir alttaki bir liste içinde virgül ile ayrılmış şekilde verir\n# diyelim ki en son yazılan listede üc ün katları şekline verilmesini isteyelim o zaman şu şekilde ekleme yapabiliriz\n#numbers= [x**2 for x in range(10) if x%3 == 0]\n#print(numbers) # yani özel durumu direkt satır içinde if olarak ekleyerek oluşturulur\n#my_String = 'Hello'\n#myList = []\n#for letter in my_String :\n#    myList.append(letter)\n#print(myList)\n#myList = [letter for letter in my_String]\n#print(myList) # yine yukardaki yazım ile aynı ifadeyi veren doğrudan yazım şekli \n# sondaki örnek burası tekrar edildikten sonra yapılacak yapılacak olan yer python döngüler 6.7 son örnek\n#......... modul kullanımı (amatörce).........#\n#import random\n#sayi = random.randint(1,100)\n#print(sayi) # rastgele sayı üreten random modülü kullanımı\n#import random\n#sayi = random.randint(1,100)\n#hak = 5\n#while hak >0:\n#    hak -= 1\n#    tahmin = int(input(\"tahmin : \"))\n#    if sayi == tahmin:\n#         print(\"tahmin edilen sayıyı bildiniz\")\n#         break        \n#    elif sayi > tahmin:\n#        print(\"Lütfen daha yukarı bir tahminde bulununuz\")\n#    else :\n#        print(\"Lütfen daha aşağı bir tahminde bulununuz\")\n#    if hak == 0:\n#        print(f\" Hakkınız bitti tutulan sayı {sayi}\") # örneğin hak ' ın altına sayac diye değişken tanımlasak ve tahmin edilen kısmına yerleştirirsek\n# kacıncı hakta bildiğini de bulmuş oluruz sayac gelince puan değişkeni belirlemek bildinizin sağına {100-(20)*sayac-1 ifadesi ile hesaplanır\n# Girilen bir sayının asal sayı olup olmadığını bulunuz\n#sayi = int(input(\"Lütfen sayı değerinini giriniz: \"))\n#asalmi = True\n\n#if sayi == 1:\n#    asalmi = False\n#for i in range(2,sayi):\n#    if(sayi%i ==0):\n#        asalmi = False\n#        break\n#if asalmi:\n#    print(f\"girilen {sayi}sı asal sayıdır\")\n#else:\n#    print(f\" Girilen {sayi}s, asal sayı değildir\")",
      "metadata": {
        "trusted": true
      },
      "outputs": [
        {
          "output_type": "stream",
          "name": "stdin",
          "text": "Lütfen sayı değerinini giriniz:  17\n"
        },
        {
          "name": "stdout",
          "output_type": "stream",
          "text": "girilen 17sı asal sayıdır\n"
        }
      ],
      "execution_count": 9
    },
    {
      "id": "5b5c33ac-d0ec-4a24-bf80-18e27af976c2",
      "cell_type": "code",
      "source": "# Python'da fonksiyonlara giriş...#\n#def sayHello():\n#    print(\"Hello dear\")\n#sayHello()   # Hello dear değerini döndürür\n#def sayHello(name):\n#    print(\"Hello dear \"+ name)\n#sayHello(\"Ferhat\")  \n#def Toplamfon(deger1,deger2):\n#    return  deger1+deger2\n#sonuc = Toplamfon(3,6)\n#print(sonuc) # iki degeri toplama fonksiyonu oluşturdum # eger fonk basında deger verilmezse orn sayhelllo(name=\"user\") seklinde tanımlandığında\n# sayhello() fonkisyonu boş şekilde şekildeki gibi çağırıldığında direkt user bilgisini kullanarak çıktı oluşturur\n#def col(num1,num2):\n#    return num1 * num2\n#sonuc = col(4,12)\n#print(sonuc) # bu da çarpma şeklinde tanımlanan basit bir fonksiyon\n# tanımlı def satırının altına ''' ile uc satır fonksiyon kullanımı ile ilgili bir tanım yapabilirirz ardından ''' ile kapatırız bunun çalıştırmak\n# için ise print(help(EmekliligekacYılKaldi)) yaparak ulaşabiliriz\n# def ile tanımlarken eger def add(a,b,*kifa, **bife) şeklinde tanımlanırsa kifa değeri liste tipi şeklinde diğer kalan elemanları alır\n# bife ise dictionary mantığında çalışır yani tanımı ve değeri beraber alabilir # bunun için 7.3 son örnek\n# gönderilen bir kelimeyi belirtilen kez ekranda gösterilen fonk. yazınız\n#def moreScreen(kelime, adet):\n#    print(kelime*adet)\n# moreScreen(\"Hello guys\\n\",10) # 10 defa Hello guys kelimesini yazdırdık\n# Kendine gönderilen sınırsız sayıdaki parametreyi bir listeye çeviren fonksiyonu yazınıız\n#def addList(*args):\n#    List = []\n#    for ar in args:\n#        List.append(ar)\n#    return List\n# result = addList(10,20,50,96,156,89)\n# result.sort()\n# print(result) # istenilen fonksiyonu çıkan sonuçları sırasıyla ekleyen şekilde yazmış olduk\n# gönderilen iki asal sayı arasıdaki tüm asal sayıları bulunuz\n\n#def asalBulan(sayi1,sayi2):\n#    for sayi in range(sayi1,sayi2+1):\n#        if sayi > 1:\n#            for i in range(2,sayi):\n#                if( sayi%i == 0):\n#                    break\n#                else:\n#                    print(sayi)\n# sayi1= int(input(\" sayi1: \"))\n# sayi2= int(input(\" sayi2: \"))\n# asalBulan(sayi1,sayi2) # kodda bir hata var bu hataya tekrar bakıcaz\n#Kendisine gönderilen bir tam sayının tam bölenlerini bir listeye ekleyen fonk ise sonra yazalım",
      "metadata": {
        "trusted": true
      },
      "outputs": [],
      "execution_count": 1
    },
    {
      "id": "8c00950e-30b1-4e5d-a234-19c017d0e406",
      "cell_type": "code",
      "source": "#................... Modüller..................#\n#import math\n#value = dir(math)\n#print(value) # bu yazım modül içindeki kullanımları bize gösterir \n#import math\n#value = help(math)\n#print(value) modül içindeki değerlerin nasıl kullanacağımızı gösteren bir port açar\n#value = math.sqrt(49)\n#print(value)\n#value = math.floor(2.91) # 2 ye yuvarladı\n#print(value)\n#value = math.factorial(4)\n#print(value) # bize 24 değerini verdi\n# yöntem 2 from mantığı\n#from math import * # bu sayede .math yapmadan direkt modüller devreye girer\n#value = factorial(5)\n#print(value) # 120 değerini döndürdü\n#from math import factorial,sqrt,ceil # bu da belirli bir kütüphane ekleme işi çok yer kaplamasın diye manuel olarak eklenen kütüphane\n#value = sqrt(4)\n#print(value) # bu şekilde de tanımlanabilir \n# random modülü uygulaması #\nimport random\n#result = random.random() # 0.0 ile 1 arasında rastgele bir değer atar o değer float olur\n#print(result)\n#result = int(random.uniform(10,100))\n#print(result) # belirtilen aralıkta int bir değer döndürür\n#result = random.randint(10,50) # bu direkt int bir değer döndürür int almaya gerek yoktur\n#print(result)\n#names = ['ali', 'yagmur', 'irem', 'ferhat', 'samet', 'hüseyin']\n#result = names[random.randint(0,len(names)-1)] # bu şekilde liste içindeki bir değeri rastgele döndürebiliriz\n#greeting = 'hello dear'\n#result1 = random.choice(greeting) # burada içinden rastegele bir karakter seçti\n#result2 = random.choice(names)# burada ise rastgele bir isim seçti içinden\n#print(result1)\n#print(result2)\n#liste = list(range(10))\n#random.shuffle(liste)\n#result = liste\n#print(result) # listedeki elemanları karıştırmaya yarar rastgele karışık bir listeye dönüştürür\n# burada da çekiliş mantığı var \n#liste = range(100)\n#result = random.sample(liste, 5)\n#print(result) # 0 ile 99 arasında bize 5 tane değer atar\n",
      "metadata": {
        "trusted": true
      },
      "outputs": [
        {
          "name": "stdout",
          "output_type": "stream",
          "text": "[15, 3, 9, 41, 65]\n"
        }
      ],
      "execution_count": 25
    },
    {
      "id": "480824fc-74bf-485b-81b2-046f6a5f32ab",
      "cell_type": "code",
      "source": "# Pythonda dosya yönetimi #\n# dosya açmak için open() fonksiyonu kullanılır. Kullanımı : open(dosya_adı, dosya_erisme_modu). D.e.modu dosyayı hangi amaçla açtığımızı belirtir\n# \"w\" (write) yazma modu dosyayı konumda oluşturur ve yapılan işlemler tüm işlemleri silerek yeni bir işlem olarak kaydeder\n# \"a\" (append) dosya yoksa dosya oluşturur ve ekleme işlemleri yapar yani hazır bir dosyanın üzerine bilgi eklemesini bunun ile yaparız\n# \"x\" (create) dosya oluşturur eğer dosya zaten varsa hata verir\n# \"r\" ( read) dosya okur eğer dosya konumda yoksa hata verir çünkü olmayan bir şeyi okuyamaz\n#file = open(\"newfile.txt\",\"w\")\n#file.close()\n#file =open(\"C:/users.... diyerek istenilen bir yere dosya açılabilir\n#file = open(\"newfile.txt\",\"w\", encoding='utf-8')\n#file.write(\"FerhatGüdek\")\n#file.close() # bu yeni bir dosya açar ve ferhat güdek yazdırır eğer işlem eklemek istersek append in \"a\" sı ile ekleyebiliriz\n#file = open(\"newfile.txt\",\"a\", encoding='utf-8')\n#file.write(\"SamedGüdek\")\n#file.close() # burada da ekleme işlemini gerçekleştirdik\n#file= open(\"newfile.txt\",\"r\",encoding='utf-8')\n#for i in file:\n#    print(i, end=\"\")\n#file.close()    #burada dosyadaki tüm değerleri okuma işlemi gerçekleştirdik\n# bu okuma işlemi file.read() fonksiyonu ile daha kolay gerçekleştirilebilir üst üste okumalarda \n#file.readline ise satır okumalarında kullanılır ayrcıa file.read(2) dersek ikinci karakterin ne olduğunu söyler\n# ikinci okuma gerçekleşecegi zaman birinci okuma sonuna file.seek(0) eklenerek okumayı en başa alır ve tekrar okur\n# with open(\"newfile.txt\",\"r+\", encoding = \"utf-8\") as file ile dosyaya güncelleme yapılır devamına örneğin\n# file.seek(20)\n#file.write(\"deneme\") ile dosyada güncelleme yapılmış olur",
      "metadata": {
        "trusted": true
      },
      "outputs": [
        {
          "name": "stdout",
          "output_type": "stream",
          "text": "FerhatGüdekSamedGüdek"
        }
      ],
      "execution_count": 33
    },
    {
      "id": "885cd4fd-cf7a-41d2-aea6-04cf1958ae38",
      "cell_type": "code",
      "source": "#............ Numpy..............#\n#import numpy as np\n#py_list = [1,2,3,4,5,6,7,8,9]\n#np_array = np.array([1,2,3,4,5,6,7,8,9]) \n#print(py_list)  # liste şeklinde aralarında virgül olacak şekilde gösterdi\n#print(np_array) # bir liste içinde arasında virgül olmadan gösterdi\n#print(type(py_list))  # list tipini gösterdi\n#print(type(np_array)) # numpy.ndarray olarak bir tip gösterdi\n#py_multi = [[1,2,3],[4,5,6],[7,8,9]]\n#np_multi = np_array.reshape(3,3) # matris için oluşturulan bir kullanım\n#print(py_multi) # tanımlandığı gibi liste içinde listeler oluşturdu üç tane\n#print(np_multi) # verilen değerleri 3 e 3 lük bir matris şeklinde oluşturdu # print(np_multi.ndim) ifadesi ise boyutunu gösteren bir kullanımdır\n#import numpy as np\n#result = np.array([1,3,5,7,9])\n#print(result) # 1,3,5,7,9 değerlerini virgülsüz lise içinde döndürür\n#result = np.arange(1,10)\n#print(result) # 1 den 9 a kadar olan değerleri virgülüz liste içine alır\n#result = np.arange(10,100,3)\n#print(result) # 10 ile yüz aralığındaki değerleri aralarında 3 fark olacak şekilde sıralar \n#result = np.zeros(10)\n#print(result) # 10 adet sıfır bilgisini aralarında virgül olacak şekilde listeye ekler \n#result = np.ones(10)\n#print(result) # 10 adet bir değerini aralarında virgül olacak şekilde listeye ekler\n#result = np.linspace(0,100,5)\n#print(result) # 0 ile 100 değer aralığını 5 eşit parçaya böler 0 ile 100 de dahildir\n#result = np.random.randint(0,10)\n#print(result) # belirlenen aralık içinde rastegel bir sayı ifadesi oluşturur\n#result = np.random.randint(20) \n#print(result) # sıfır ile 20 arasında bir sayı üretti\n#result = np.random.randint(1,10,3)\n#print(result) # bir ile 10 arasında 3 tane rastgele değer ataması yapar\n#result = np.random.rand(5)\n#print(result) # sıfır ile bir arasında ondalıklı olacak şekilde 5 adet sayı üretir\n#np_array = np.arange(50) # 50 ye kadar değerleri sıralar\n#result = np_array.reshape(5,10) # 5 e 10 luk bir matris oluşturur\n#print(result)\n#np_array = np.arange(50)\n#np_borray = np_array.reshape(5,10)\n#print(np_borray.sum(axis =1))\n#print(np_borray.sum(axis =0)) # bu işlemler bize ilk print satır toplamı ikinci print ise sütun toplamı yapar\n#rnd_numbers = np.random.randint(1,100,10)\n#print(rnd_numbers)\n#result1 = rnd_numbers.max() # oluşturulan değerler arasında max değeri verir #argmax argmin ise argmean ise max vs değerlerin olduğu indeks no sunu verir\n#print(result1)\n#result2 = rnd_numbers.min() # oluşturulan değerler arasında min değeri verir\n#print(result2)\n#result3 = rnd_numbers.mean() # oluşturulan değerler arasında ortalama değeri verir\n#print(result3)\n#.............uygulamalar ...............#\n# 10,15,30,45,,60 değerlerine sahip bir numpy dizisi oluşturun\nimport numpy as np\n#result = np.array([10,15,30,45,60])\n#print(result)\n# (5-15) arasındaki sayılarla numpy dizisi oluşturunuz\n#result = np.arange(5,15)\n#print(result)\n# (50-100) arasında 5 er 5 er artarak numpy dizisi oluşturunuz\n#result = np.arange(50,100,5)\n#print(result)\n# 10 elemanlı sıfırlardan oluşan bir numpy dizisi oluşturunuz\n#result = np.zeros(10)\n#print(result)\n# 10 elemanlı birlerden oluşan bir dizi oluşturunuz\n#result = np.ones(10)\n#print(result)\n#(0-100) arasında eşit aralıklı 5 adet sayı üretiniz\n#result = np.linspace(0,100,5)\n#print(result)\n# (10-30) arasında rastgel 5 adet sayı üretiniz\n#result = np.random.randint(10,30,5)\n#print(result)\n# -1 ile 1 arasında 10 adet sayı üretiniz\n#result = np.random.rand(10)\n#print(result)\n#(3x5) boyutlarında (10-50) arasında rastgele bir matris oluşturunuz\n#result = np.random.randint(10,50,15).reshape(3,5)\n#print(result)\n# üretilen matrisin satır ve sütun toplamlarını yazınız\nmatris= np.random.randint(10,50,15).reshape(3,5)\n#rowTotal = matris.sum(axis = 1)\n#colTotal = matris.sum(axis = 0)\n#print(rowTotal)\n#print(colTotal)\n# üretilen matrisin en büyük , en kücük ve ortalama değerleri nedir\n#minValue= matris.min()\n#print(minValue)\n#maxValue = matris.max()\n#print(maxValue)\n#meanValue = matris.mean()\n#print(meanValue)\n#üretilen matrisin en büyük değerin indeksi kaçtır\n#maxValue = matris.argmax()\n#print(maxValue) # 14 değeri demek ki en büyük değerinin 14. dizide olduğunu gösterir\n# (10-20) arasındaki elemanları içeren dizinin ilk üç elemanını seçiniz\n#arr = np.arange(10,20)\n#result= arr[:3]\n#print(result)\n#üretilen dizinin elemanlarını tersten yazdırınız\n#arr = np.arange(10,20)\n#result = arr[::-1]\n#print(result)\n# üretilen matrisin ilk satırını yazınız\n#result = matris[0]\n#print(result)\n#üretilen matrisin ikinci satırının üçüncü sütundaki eleman nedir\n#result = matris[1:2]\n#print(result)\n# üretilen matrisin tüm satırlardaki ilk elemanı seçiniz\n#result = matris[:,0]\n#print(result)\n# her bir matris elemanının karesini alınız\n#result = matris **2\n#print(result)\n#üretilen matris elemanlarıın hangisi pozitif çift sayıdır -50,+50 arasında yapınız\n#result = matris%2==0\n#print(result) # bu direkt çift olma durumuna göre true ya da false değer döndürür\n#result1 = matris[matris&2 ==0]\n#print(result1)  # bu istenilen matristeki çift sayıları verir\n#result2 = result1 > 0\n#print(result2) # bu da soruda istenileni verir",
      "metadata": {
        "trusted": true
      },
      "outputs": [],
      "execution_count": 85
    },
    {
      "id": "30b2eb70-843e-4ace-9936-ba96d29bc1b5",
      "cell_type": "code",
      "source": "#.....Veri analizi(Pandas)......#\n#import pandas as pd\n#import numpy as np\n#pandas_series = pd.Series()\n#print(pandas_series) \n#numbers = [3,6,9,12,15]\n#pandas_series = pd.Series(numbers)\n#print(pandas_series) # numberstaki her değere 0 dan başlayan bir değer atadı ve tablolaştırdı\n#letter = ['a','b','c', 'f']\n#pandas_series = pd.Series(letter)\n#print(pandas_series) # aynı şekilde bu sefer de değerleri 0 dan başlayarak letter içindeki harflere atadı\n#pandas_series = pd.Series(5,[10,20,30,40,50])\n#print(pandas_series) # bu sefer de liste dışı sayısı tüm liste ile tablo oluştruacak şekilde döner\n#pandas_series = pd.Series(numbers,[10,20,30,40,50])\n#print(pandas_series) # aynı şekilde içteki olan değerler yine sol tarafa yaslı olacak şekilde oluşur\n#dict = {'Ferhat': 24, 'Samet': 19,'Hayriye': 44, 'Tekin': 51}\n#pandas_series = pd.Series(dict)\n#print(pandas_series) # isim ile yaş olacak şekilde bir tablo oluşturmuş olduk\n#random_numbers = np.random.randint(10,100,6)\n#pandas_series = pd.Series(random_numbers)\n#print(pandas_series) # oluşturduğumuz tablonun değerleri rastgele olacak şekilde oluşturuldu\n#pandas_series = pd.Series([20,30,40,50],['a','b','c','d'])\n#result = pandas_series[0] # buradan ilk eleman olan 20 ye ulaşılıyor\n#print(pandas_series)\n#print(result) # hatta numpy de yapılan sondaki işlemler de pandas üzerinden uygulanabiliyor \n#opel2018= pd.Series([20,30,40,60],[\"astra\",\"corsa\",\"mokka\",\"insignia\"])\n#opel2019 = pd.Series([10,60,20,20],[\"astra\",\"corsa\",\"grandland\",\"insignia\"])\n#print(opel2018,opel2019) # tekrar bize tablo şeklinde oluşturdu\n#total = opel2018 + opel2019\n#print(total) # ikisinde de olmayan değerlerden NaN ifadesi veriliyor eğer astra vorsa insignia gibi ikisinde de olan değerleri topluyor\n#print(total[\"corsa\"]) # bu değer ise direkt corsa 'nın toplam değerini bize gösterir\n#...... data frame.....#\nimport pandas as pd\n#s1 = pd.Series([3,2,0,1])\n#s2 = pd.Series([0,3,7,2])\n#data = dict(apples = s1, oranges = s2)\n#df = pd.DataFrame(data)\n#print(df) # hatalı kod buna bakılacak normalde bu kod tablonun belirlenen dikey ve yatay değerleriye oluşturulmasıydı\n#df = pd.DataFrame()\n#print(df) # coumns ve index değerleri boş olan boş bir dataframe olduğunu söylüyor\n#df = pd.DataFrame([1,2,3,4,5])\n#print(df) # dataframe fazladan bir de eksen tanımı yapıyor diyebiliriz\n#df = pd.DataFrame([[\"ahmet\",50],[\"mehmet\",24],[\"sinem\",19]])\n#print(df) # y ekseine verilen numaralara dataframe ile x ekseni de dahil oluyor\n#data = [[\"ahmet\",50],[\"mehmet\",24],[\"sinem\",19]]\n#df = pd.DataFrame(data,columns = ['name','grade'], index = [1,2,3])\n#print(df) # burada da x ve y eksenindeki değerleri kendimiz istediğiiz şekilde belirledik\n#list = [[\"ahmet\",10,\"first\"],[\"mehmet\",20,\"second\"],[\"ilayda\",30,\"third\"],[\"gizem\",40,\"fourth\"]]\n#df = pd.DataFrame(list)\n#print(df)\n#dict = {\"Name\":[\"leyla\",\"mahmut\",\"gamze\",\"sueyda\"], \"Grade\":[50,60,70,80]}\n#df = pd.DataFrame(dict)\n#print(df)\n#dict_list = [\n#    {\"Name\": \"Leyla\",\"Grade\":50},\n#     {\"Name\": \"Mahmut\",\"Grade\":60},\n#    {\"Name\": \"Gamze\",\"Grade\":70},            \n#    {\"Name\": \"Sueyda\",\"Grade\":80}\n]\n#df = pd.DataFrame(dict_list)\n#print(df) #burada dict list karışımı bir dataframe dosyası oluşturduk ve bunu tablolaştırdık\n\n\n\n\n",
      "metadata": {
        "trusted": true
      },
      "outputs": [
        {
          "name": "stdout",
          "output_type": "stream",
          "text": "     Name  Grade\n0   Leyla     50\n1  Mahmut     60\n2   Gamze     70\n3  Sueyda     80\n"
        }
      ],
      "execution_count": 8
    },
    {
      "id": "9033bf61-f34d-46fc-a3b0-e19150f11a50",
      "cell_type": "code",
      "source": "",
      "metadata": {
        "trusted": true
      },
      "outputs": [],
      "execution_count": null
    },
    {
      "id": "3a0b6ea8-2ccd-46e2-a30c-e38f1af11c19",
      "cell_type": "code",
      "source": "",
      "metadata": {
        "trusted": true
      },
      "outputs": [],
      "execution_count": null
    },
    {
      "id": "ff9017d3-b68b-4ef4-936f-4df60bf884ca",
      "cell_type": "code",
      "source": "",
      "metadata": {
        "trusted": true
      },
      "outputs": [],
      "execution_count": null
    },
    {
      "id": "604d6960-9b98-4027-a43a-8b0381e69478",
      "cell_type": "code",
      "source": "",
      "metadata": {
        "trusted": true
      },
      "outputs": [],
      "execution_count": null
    },
    {
      "id": "5b6e174e-13ac-4ef4-ab3c-dac9d2806db4",
      "cell_type": "code",
      "source": "",
      "metadata": {
        "trusted": true
      },
      "outputs": [],
      "execution_count": null
    }
  ]
}